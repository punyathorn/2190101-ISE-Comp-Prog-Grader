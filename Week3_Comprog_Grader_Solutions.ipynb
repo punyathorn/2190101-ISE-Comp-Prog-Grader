{
  "nbformat": 4,
  "nbformat_minor": 0,
  "metadata": {
    "colab": {
      "provenance": [],
      "gpuType": "T4",
      "authorship_tag": "ABX9TyP44gSW+f3NPnzcu51BM7KW"
    },
    "kernelspec": {
      "name": "python3",
      "display_name": "Python 3"
    },
    "language_info": {
      "name": "python"
    },
    "accelerator": "GPU"
  },
  "cells": [
    {
      "cell_type": "markdown",
      "source": [
        "#03_If_◇_Median5"
      ],
      "metadata": {
        "id": "4VG61cSZ93-B"
      }
    },
    {
      "cell_type": "code",
      "execution_count": null,
      "metadata": {
        "colab": {
          "base_uri": "https://localhost:8080/"
        },
        "id": "jsSlgJVh9woR",
        "outputId": "65cb25bf-f17e-465b-c43d-6d24bea53dca"
      },
      "outputs": [
        {
          "output_type": "stream",
          "name": "stdout",
          "text": [
            "0\n",
            "-1\n",
            "-2\n",
            "2\n",
            "1\n",
            "0\n"
          ]
        }
      ],
      "source": [
        "a = int(input())\n",
        "b = int(input())\n",
        "c = int(input())\n",
        "d = int(input())\n",
        "e = int(input())\n",
        "if a>b:\n",
        "  a,b=b,a\n",
        "if c>d:\n",
        "  c,d = d,c\n",
        "if a>c:\n",
        "  b,d=d,b\n",
        "  c=a\n",
        "a=e\n",
        "if a>b:\n",
        "  a,b=b,a\n",
        "if c>a:\n",
        "  b,d=d,b\n",
        "  a=c\n",
        "if a>d:\n",
        "  print(d)\n",
        "else:\n",
        "  print(a)"
      ]
    },
    {
      "cell_type": "markdown",
      "source": [
        "#03_If_◇◇_Next15Days"
      ],
      "metadata": {
        "id": "NO4mTONC_zT5"
      }
    },
    {
      "cell_type": "code",
      "source": [
        "d,m,y = [int(e) for e in input().split()]\n",
        "y = y - 543\n",
        "n = 31\n",
        "\n",
        "if (m == 4) or (m==6) or (m==9) or( m==11):\n",
        "  n = 30\n",
        "else:\n",
        "  if m ==2:\n",
        "    n = 28\n",
        "    if y%400 == 0:\n",
        "      n=29\n",
        "    if ((y%4) == 0) & ((y%100) !=0):\n",
        "      n=29\n",
        "d=d+15\n",
        "if d>n:\n",
        "  d = d - n\n",
        "  m=m+1\n",
        "if m > 12:\n",
        "  m = m -12\n",
        "  y = y+1\n",
        "y = y + 543\n",
        "print(f\"{d}/{m}/{y}\")"
      ],
      "metadata": {
        "colab": {
          "base_uri": "https://localhost:8080/"
        },
        "id": "FVBPgvrKOlTi",
        "outputId": "891b7933-da96-4c39-90ec-576bd144f399"
      },
      "execution_count": null,
      "outputs": [
        {
          "output_type": "stream",
          "name": "stdout",
          "text": [
            "22 2 2547\n",
            "8/3/2547\n",
            "29\n",
            "\n"
          ]
        }
      ]
    },
    {
      "cell_type": "markdown",
      "source": [
        "#03_If_◇◇_Flowchart01"
      ],
      "metadata": {
        "id": "gS_BXullKDZZ"
      }
    },
    {
      "cell_type": "code",
      "source": [
        "a,b,c,d = [int(e) for e in input().split()]\n",
        "if a>b:\n",
        "  a,b=b,a\n",
        "  if d>=a:\n",
        "    if c>d:\n",
        "      c = c-a\n",
        "  else:\n",
        "      c = c+a\n",
        "  b = a + c + d\n",
        "else:\n",
        "  if c > a and a >= b:\n",
        "    d = d+a\n",
        "  if d > c:\n",
        "      b = b + 2\n",
        "  else:\n",
        "      b = 2*b\n",
        "print(a,b,c,d)"
      ],
      "metadata": {
        "colab": {
          "base_uri": "https://localhost:8080/"
        },
        "id": "VFX-wW1-BH5J",
        "outputId": "18c67efe-a1ae-40e9-a5c9-3c8a5190d79a"
      },
      "execution_count": null,
      "outputs": [
        {
          "output_type": "stream",
          "name": "stdout",
          "text": [
            "3 2 1 4\n",
            "2 3 1 4\n",
            "2 7 1 4\n",
            "2 7 1 4\n"
          ]
        }
      ]
    },
    {
      "cell_type": "markdown",
      "source": [
        "#03_​If_​★_​FacultyCode"
      ],
      "metadata": {
        "id": "DCG1-BvZUqn5"
      }
    },
    {
      "cell_type": "code",
      "source": [
        "a = [\"The Sirindhorn Thai Language Institute\",\n",
        "\"General Education Center\",\n",
        "\"Graduate School\",\n",
        "\"Faculty of Engineering\",\n",
        "\"aculty of Arts\",\n",
        "\"Faculty of Science\",\n",
        "\"Faculty of Political Science\",\n",
        "\"Faculty of Architecture\",\n",
        "\"Faculty of Commerce and Accountancy\",\n",
        "\"Faculty of Education\",\n",
        "\"Faculty of Communication Arts\",\n",
        "\"Faculty of Economics\",\n",
        "\"Faculty of Medicine\",\n",
        "\"Faculty of Veterinary Science\",\n",
        "\"Faculty of Dentistry\",\n",
        "\"Faculty of Pharmaceutical Sciences\",\n",
        "\"Faculty of Law\",\n",
        "\"Faculty of Fine and Applied Arts\",\n",
        "\"Faculty of Nursing\",\n",
        "\"Faculty of Allied Health Sciences\",\n",
        "\"Faculty of Psychology\",\n",
        "\"Faculty of Sports Science\",\n",
        "\"School of Agricultural\",\n",
        "\"College of Population Studies\",\n",
        "\"College of Public Health Sciences\",\n",
        "\"Language Institute\",\n",
        "\"Sasin Graduate Institute of Business\",\n",
        "\"Administration of Chulalongkorn University\",\"01\",\"02\",\"20\",\"21\",\"22\",\"23\",\"24\",\"25\",\"26\",\"27\",\"28\",\"29\",\"30\",\"31\",\"32\",\"33\",\"34\",\"35\",\"36\",\"37\",\"38\",\"39\",\"40\",\"51\",\"53\",\"55\",\"58\"]\n",
        "b = input()\n",
        "if b in a:\n",
        "  print(\"OK\")\n",
        "else:\n",
        "  print(\"Error\")"
      ],
      "metadata": {
        "colab": {
          "base_uri": "https://localhost:8080/"
        },
        "id": "Xg9jppFhLAQJ",
        "outputId": "52a0be29-ea91-4f92-a3ce-4918fcb7e599"
      },
      "execution_count": null,
      "outputs": [
        {
          "output_type": "stream",
          "name": "stdout",
          "text": [
            "01\n",
            "True\n"
          ]
        }
      ]
    },
    {
      "cell_type": "markdown",
      "source": [
        "#03_​If_​★_​Grading"
      ],
      "metadata": {
        "id": "XTmGciCNW3XR"
      }
    },
    {
      "cell_type": "code",
      "source": [
        "s = float(input())\n",
        "if s >= 80:\n",
        "  print(\"A\")\n",
        "elif s >= 70:\n",
        "  print(\"B\")\n",
        "elif s >= 60:\n",
        "  print(\"C\")\n",
        "elif s >= 50:\n",
        "  print(\"D\")\n",
        "else:\n",
        "  print(\"F\")"
      ],
      "metadata": {
        "colab": {
          "base_uri": "https://localhost:8080/"
        },
        "id": "YPUnW1_NWwTx",
        "outputId": "befcce24-4dc2-4033-aa1b-b9aaf4f42122"
      },
      "execution_count": null,
      "outputs": [
        {
          "output_type": "stream",
          "name": "stdout",
          "text": [
            "0.1\n",
            "F\n"
          ]
        }
      ]
    },
    {
      "cell_type": "markdown",
      "source": [
        "#03_​If_​★_​Gymnastic_​Score"
      ],
      "metadata": {
        "id": "W6obGlSzXvMR"
      }
    },
    {
      "cell_type": "code",
      "source": [
        "a,b,c,d = [float(e) for e in input().split()]\n",
        "avg = 0\n",
        "max = 0\n",
        "min = a\n",
        "if a > max:\n",
        "  max = a\n",
        "if b > max:\n",
        "  max = b\n",
        "if c > max:\n",
        "  max = c\n",
        "if d > max:\n",
        "  max = d\n",
        "if a < min:\n",
        "  min = a\n",
        "if b < min:\n",
        "  min = b\n",
        "if c < min:\n",
        "  min = c\n",
        "if d < min:\n",
        "  min = d\n",
        "avg = a+b+c+d\n",
        "avg -= max\n",
        "avg -= min\n",
        "avg = avg/2\n",
        "print(round(avg,2))"
      ],
      "metadata": {
        "colab": {
          "base_uri": "https://localhost:8080/"
        },
        "id": "MMcZixvlVRGJ",
        "outputId": "aaf5e8fd-2c55-4de0-9f3b-a5b394c577dc"
      },
      "execution_count": null,
      "outputs": [
        {
          "output_type": "stream",
          "name": "stdout",
          "text": [
            "2.0 2.0 3.22 2.92\n",
            "2.0 3.22 2.46\n"
          ]
        }
      ]
    },
    {
      "cell_type": "markdown",
      "source": [
        "#03_​If_​★_​MobileNumber"
      ],
      "metadata": {
        "id": "tZXbpqkCcCui"
      }
    },
    {
      "cell_type": "code",
      "source": [
        "m = input()\n",
        "if ((\"06\" in m[:2]) | (\"08\" in m[:2]) | (\"09\" in m[:2]) )& (len(m) == 10):\n",
        "  print(\"Mobile number \")\n",
        "else:\n",
        "  print(\"Not a mobile number\")"
      ],
      "metadata": {
        "colab": {
          "base_uri": "https://localhost:8080/"
        },
        "id": "l8wfIKEXYMH5",
        "outputId": "49468d00-f5bf-40ed-a012-0ca0397eb932"
      },
      "execution_count": null,
      "outputs": [
        {
          "output_type": "stream",
          "name": "stdout",
          "text": [
            "0868144444\n",
            "Mobile number \n"
          ]
        }
      ]
    },
    {
      "cell_type": "markdown",
      "source": [
        "#03_If_★_Positive_Negative"
      ],
      "metadata": {
        "id": "kZs8572idL3x"
      }
    },
    {
      "cell_type": "code",
      "source": [
        "a = int(input())\n",
        "if a > 0:\n",
        "  print(\"positive\")\n",
        "elif a < 0:\n",
        "  print(\"negative\")\n",
        "else:\n",
        "  print(\"zero\")\n",
        "\n",
        "if a % 2 == 0:\n",
        "  print(\"even\")\n",
        "else:\n",
        "  print(\"odd\")"
      ],
      "metadata": {
        "id": "VdNGZlDlcjoJ"
      },
      "execution_count": null,
      "outputs": []
    },
    {
      "cell_type": "markdown",
      "source": [
        "#03_​If_​★_​RegisteredMail"
      ],
      "metadata": {
        "id": "cgeriQhGdnVR"
      }
    },
    {
      "cell_type": "code",
      "source": [
        "a = int(input())\n",
        "\n",
        "if 0 < a <= 100:\n",
        "    print(\"18\")\n",
        "elif 100 < a <= 250:\n",
        "    print(\"22\")\n",
        "elif 250 < a <= 500:\n",
        "    print(\"28\")\n",
        "elif 500 < a <= 1000:\n",
        "    print(\"38\")\n",
        "elif 1000 < a <= 2000:\n",
        "    print(\"58\")\n",
        "else:\n",
        "    print(\"Reject\")"
      ],
      "metadata": {
        "id": "2uhEIQ6ndn35"
      },
      "execution_count": null,
      "outputs": []
    },
    {
      "cell_type": "markdown",
      "source": [
        "#03_If_★★_AbbrevNum"
      ],
      "metadata": {
        "id": "T4GT705dPj7T"
      }
    },
    {
      "cell_type": "code",
      "source": [
        "a = input()\n",
        "if len(a) <= 3:\n",
        "  b = a\n",
        "elif len(a) == 4:\n",
        "  b = str(round(int(a)/1000,1)) + \"K\"\n",
        "elif len(a) <= 6:\n",
        "  b = str(int(round(int(a)/1000,0))) + \"K\"\n",
        "elif len(a) == 7:\n",
        "  b = str(round(int(a)/1000000,1)) + \"M\"\n",
        "elif len(a) <= 9:\n",
        "  b = str(int(round(int(a)/1000000,0))) + \"M\"\n",
        "elif len(a) == 10:\n",
        "  b = str(round(int(a)/1000000000,1)) + \"B\"\n",
        "else:\n",
        "  b = str(int(round(int(a)/1000000000,0))) + \"B\"\n",
        "print(b)"
      ],
      "metadata": {
        "colab": {
          "base_uri": "https://localhost:8080/"
        },
        "id": "BVzGBQAuPqtd",
        "outputId": "d417ea2e-c3ab-4eb4-df9c-6775cfd4d2bc"
      },
      "execution_count": null,
      "outputs": [
        {
          "output_type": "stream",
          "name": "stdout",
          "text": [
            "25555555555555555555\n",
            "2556B\n"
          ]
        }
      ]
    },
    {
      "cell_type": "markdown",
      "source": [
        "#03_​if_​★★_​DayOfYear"
      ],
      "metadata": {
        "id": "BFkDxYwJUy2d"
      }
    },
    {
      "cell_type": "code",
      "source": [
        "d = int(input())\n",
        "m = int(input())\n",
        "y = int(input())\n",
        "total_d = 0\n",
        "total_d += d\n",
        "if m > 1:\n",
        "  total_d += 31\n",
        "if m > 2:\n",
        "  y = y - 543\n",
        "  if y%400 == 0:\n",
        "    total_d += 29\n",
        "  elif ((y%4) == 0) & ((y%100) !=0):\n",
        "    total_d += 29\n",
        "  else:\n",
        "    total_d += 28\n",
        "  y = y + 543\n",
        "if m > 3:\n",
        "  total_d += 31\n",
        "if m > 4:\n",
        "  total_d += 30\n",
        "if m > 5:\n",
        "  total_d += 31\n",
        "if m > 6:\n",
        "  total_d += 30\n",
        "if m > 7:\n",
        "  total_d += 31\n",
        "if m > 8:\n",
        "  total_d += 31\n",
        "if m > 9:\n",
        "  total_d += 30\n",
        "if m > 10:\n",
        "  total_d += 31\n",
        "if m > 11:\n",
        "  total_d += 30\n",
        "print(total_d)"
      ],
      "metadata": {
        "colab": {
          "base_uri": "https://localhost:8080/"
        },
        "id": "-mwWKtAOUQmg",
        "outputId": "a73cb36c-f404-4b47-d2e1-fae68ba522cc"
      },
      "execution_count": null,
      "outputs": [
        {
          "output_type": "stream",
          "name": "stdout",
          "text": [
            "12\n",
            "12\n",
            "2561\n",
            "346\n"
          ]
        }
      ]
    },
    {
      "cell_type": "markdown",
      "source": [
        "#03_If_★★★-07-Biorhythm"
      ],
      "metadata": {
        "id": "GjXZwuJQciFh"
      }
    },
    {
      "cell_type": "code",
      "source": [
        "import math\n",
        "bd, bm, by, d, m, y = [int(e) for e in input().split()]\n",
        "#black\n",
        "if y-by>1:\n",
        "  d_black = (y-by-1)*365\n",
        "else:\n",
        "  d_black = 0\n",
        "\n",
        "d_red = 0\n",
        "d_blue = 0\n",
        "\n",
        "d_red += 1 #include birthdate\n",
        "if bm == 1:\n",
        "  d_red += 31-bd\n",
        "  by = by - 543\n",
        "  if (by%400) == 0:\n",
        "    d_red += 29\n",
        "  elif ((by%4) == 0) & ((by%100) !=0):\n",
        "    d_red += 29\n",
        "  else:\n",
        "    d_red += 28\n",
        "  by = by + 543\n",
        "  d_red += 31 + 30 + 31 + 30 + 31 + 31 + 30 + 31 + 30 + 31\n",
        "elif bm == 2:\n",
        "  by = by - 543\n",
        "  if (by%400) == 0:\n",
        "    d_red += 29-bd\n",
        "  elif ((by%4) == 0) & ((by%100) !=0):\n",
        "    d_red += 29-bd\n",
        "  else:\n",
        "    d_red += 28-bd\n",
        "  by = by + 543\n",
        "  d_red += 31 + 30 + 31 + 30 + 31 + 31 + 30 + 31 + 30 + 31\n",
        "elif bm == 3:\n",
        "  d_red += 31-bd\n",
        "  d_red += 30 + 31 + 30 + 31 + 31 + 30 + 31 + 30 + 31\n",
        "elif bm == 4:\n",
        "  d_red += 30-bd\n",
        "  d_red += 31 + 30 + 31 + 31 + 30 + 31 + 30 + 31\n",
        "elif bm == 5:\n",
        "  d_red += 31-bd\n",
        "  d_red += 30 + 31 + 31 + 30 + 31 + 30 + 31\n",
        "elif bm == 6:\n",
        "  d_red += 30-bd\n",
        "  d_red += 31 + 31 + 30 + 31 + 30 + 31\n",
        "elif bm == 7:\n",
        "  d_red += 31-bd\n",
        "  d_red += 31 + 30 + 31 + 30 + 31\n",
        "elif bm == 8:\n",
        "  d_red += 31-bd\n",
        "  d_red += 30 + 31 + 30 + 31\n",
        "elif bm == 9:\n",
        "  d_red += 30-bd\n",
        "  d_red += 31 + 30 + 31\n",
        "elif bm == 10:\n",
        "  d_red += 31-bd\n",
        "  d_red += 30 + 31\n",
        "elif bm == 11:\n",
        "  d_red += 30-bd\n",
        "  d_red += 31\n",
        "elif bm == 12:\n",
        "  d_red += 31-bd\n",
        "\n",
        "#blue\n",
        "d_blue += d-1 #the day before interested date (not include interested date)\n",
        "if m > 1:\n",
        "  d_blue += 31\n",
        "if m > 2:\n",
        "  y = y - 543\n",
        "  if y%400 == 0:\n",
        "    d_blue += 29\n",
        "  elif ((y%4) == 0) & ((y%100) !=0):\n",
        "    d_blue += 29\n",
        "  else:\n",
        "    d_blue += 28\n",
        "  y = y + 543\n",
        "if m > 3:\n",
        "  d_blue += 31\n",
        "if m > 4:\n",
        "  d_blue += 30\n",
        "if m > 5:\n",
        "  d_blue += 31\n",
        "if m > 6:\n",
        "  d_blue += 30\n",
        "if m > 7:\n",
        "  d_blue += 31\n",
        "if m > 8:\n",
        "  d_blue += 31\n",
        "if m > 9:\n",
        "  d_blue += 30\n",
        "if m > 10:\n",
        "  d_blue += 31\n",
        "if m > 11:\n",
        "  d_blue += 30\n",
        "\n",
        "total_d = d_black + d_red + d_blue\n",
        "#cycle calculations\n",
        "phy_cycle = math.sin((2*math.pi*total_d)/23)\n",
        "emo_cycle = math.sin(2*math.pi*(total_d/28))\n",
        "geo_cycle = math.sin(2*math.pi*(total_d/33))\n",
        "print(\"{} {:.2f} {:.2f} {:.2f}\".format(total_d, phy_cycle, emo_cycle, geo_cycle))"
      ],
      "metadata": {
        "colab": {
          "base_uri": "https://localhost:8080/"
        },
        "id": "Hba-0taBUiTd",
        "outputId": "1c2a5901-cde8-49d7-d662-18b57f1b8ad9"
      },
      "execution_count": 51,
      "outputs": [
        {
          "output_type": "stream",
          "name": "stdout",
          "text": [
            "10 8 2541 27 10 2559\n",
            "6649 0.52 0.22 0.10\n"
          ]
        }
      ]
    },
    {
      "cell_type": "code",
      "source": [],
      "metadata": {
        "id": "pCHQ7HZ2PbSM"
      },
      "execution_count": null,
      "outputs": []
    }
  ]
}